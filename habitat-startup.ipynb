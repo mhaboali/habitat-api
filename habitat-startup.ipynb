{
 "cells": [
  {
   "cell_type": "code",
   "execution_count": null,
   "metadata": {},
   "outputs": [],
   "source": [
    "!git clone https://github.com/mhaboali/habitat-api.git"
   ]
  },
  {
   "cell_type": "code",
   "execution_count": null,
   "metadata": {},
   "outputs": [],
   "source": [
    "!cd habitat-api && pip install -e ."
   ]
  },
  {
   "cell_type": "code",
   "execution_count": null,
   "metadata": {},
   "outputs": [],
   "source": [
    "!cd habitat-api; pip install -r requirements.txt; python setup.py develop --all "
   ]
  },
  {
   "cell_type": "code",
   "execution_count": null,
   "metadata": {},
   "outputs": [],
   "source": [
    "!mkdir ~/habitat-api/data\n",
    "!cd ~/habitat-api/data; wget http://dl.fbaipublicfiles.com/habitat/habitat-test-scenes.zip\n",
    "!cd ~/habitat-api/data; unzip habitat-test-scenes.zip"
   ]
  },
  {
   "cell_type": "code",
   "execution_count": null,
   "metadata": {},
   "outputs": [],
   "source": [
    "!cd ~/habitat-api; git clone --branch stable https://github.com/facebookresearch/habitat-sim.git; cd habitat-sim; rm -rf .git .gitignore"
   ]
  },
  {
   "cell_type": "code",
   "execution_count": null,
   "metadata": {},
   "outputs": [],
   "source": [
    "!cd ~/habitat-api/habitat-sim; pip install -r requirements.txt"
   ]
  },
  {
   "cell_type": "code",
   "execution_count": null,
   "metadata": {},
   "outputs": [],
   "source": [
    "!apt-get install -y --no-install-recommends \\\n",
    "     cmake libjpeg-dev libglm-dev libgl1-mesa-glx libegl1-mesa-dev mesa-utils xorg-dev freeglut3-dev"
   ]
  },
  {
   "cell_type": "code",
   "execution_count": 4,
   "metadata": {},
   "outputs": [
    {
     "name": "stdout",
     "output_type": "stream",
     "text": [
      "Reading package lists... Done\n",
      "Building dependency tree       \n",
      "Reading state information... Done\n",
      "libegl1-mesa-dev is already the newest version (19.2.8-0ubuntu0~18.04.1).\n",
      "0 upgraded, 0 newly installed, 0 to remove and 22 not upgraded.\n"
     ]
    }
   ],
   "source": [
    "!apt install libegl1-mesa-dev"
   ]
  },
  {
   "cell_type": "code",
   "execution_count": 7,
   "metadata": {},
   "outputs": [
    {
     "name": "stdout",
     "output_type": "stream",
     "text": [
      "running install\n",
      "running bdist_egg\n",
      "running egg_info\n",
      "writing habitat_sim.egg-info/PKG-INFO\n",
      "writing dependency_links to habitat_sim.egg-info/dependency_links.txt\n",
      "writing requirements to habitat_sim.egg-info/requires.txt\n",
      "writing top-level names to habitat_sim.egg-info/top_level.txt\n",
      "reading manifest file 'habitat_sim.egg-info/SOURCES.txt'\n",
      "reading manifest template 'MANIFEST.in'\n",
      "writing manifest file 'habitat_sim.egg-info/SOURCES.txt'\n",
      "installing library code to build/bdist.linux-x86_64/egg\n",
      "running install_lib\n",
      "running build_py\n",
      "creating build\n",
      "creating build/lib.linux-x86_64-3.6\n",
      "creating build/lib.linux-x86_64-3.6/habitat_sim\n",
      "copying habitat_sim/__init__.py -> build/lib.linux-x86_64-3.6/habitat_sim\n",
      "copying habitat_sim/errors.py -> build/lib.linux-x86_64-3.6/habitat_sim\n",
      "copying habitat_sim/geo.py -> build/lib.linux-x86_64-3.6/habitat_sim\n",
      "copying habitat_sim/gfx.py -> build/lib.linux-x86_64-3.6/habitat_sim\n",
      "copying habitat_sim/logging.py -> build/lib.linux-x86_64-3.6/habitat_sim\n",
      "copying habitat_sim/physics.py -> build/lib.linux-x86_64-3.6/habitat_sim\n",
      "copying habitat_sim/registry.py -> build/lib.linux-x86_64-3.6/habitat_sim\n",
      "copying habitat_sim/scene.py -> build/lib.linux-x86_64-3.6/habitat_sim\n",
      "copying habitat_sim/sensor.py -> build/lib.linux-x86_64-3.6/habitat_sim\n",
      "copying habitat_sim/sim.py -> build/lib.linux-x86_64-3.6/habitat_sim\n",
      "copying habitat_sim/simulator.py -> build/lib.linux-x86_64-3.6/habitat_sim\n",
      "creating build/lib.linux-x86_64-3.6/habitat_sim/agent\n",
      "copying habitat_sim/agent/__init__.py -> build/lib.linux-x86_64-3.6/habitat_sim/agent\n",
      "copying habitat_sim/agent/agent.py -> build/lib.linux-x86_64-3.6/habitat_sim/agent\n",
      "creating build/lib.linux-x86_64-3.6/habitat_sim/bindings\n",
      "copying habitat_sim/bindings/__init__.py -> build/lib.linux-x86_64-3.6/habitat_sim/bindings\n",
      "creating build/lib.linux-x86_64-3.6/habitat_sim/nav\n",
      "copying habitat_sim/nav/__init__.py -> build/lib.linux-x86_64-3.6/habitat_sim/nav\n",
      "copying habitat_sim/nav/greedy_geodesic_follower.py -> build/lib.linux-x86_64-3.6/habitat_sim/nav\n",
      "creating build/lib.linux-x86_64-3.6/habitat_sim/sensors\n",
      "copying habitat_sim/sensors/__init__.py -> build/lib.linux-x86_64-3.6/habitat_sim/sensors\n",
      "copying habitat_sim/sensors/sensor_suite.py -> build/lib.linux-x86_64-3.6/habitat_sim/sensors\n",
      "creating build/lib.linux-x86_64-3.6/habitat_sim/utils\n",
      "copying habitat_sim/utils/__init__.py -> build/lib.linux-x86_64-3.6/habitat_sim/utils\n",
      "copying habitat_sim/utils/collect_env.py -> build/lib.linux-x86_64-3.6/habitat_sim/utils\n",
      "copying habitat_sim/utils/common.py -> build/lib.linux-x86_64-3.6/habitat_sim/utils\n",
      "creating build/lib.linux-x86_64-3.6/habitat_sim/agent/controls\n",
      "copying habitat_sim/agent/controls/__init__.py -> build/lib.linux-x86_64-3.6/habitat_sim/agent/controls\n",
      "copying habitat_sim/agent/controls/controls.py -> build/lib.linux-x86_64-3.6/habitat_sim/agent/controls\n",
      "copying habitat_sim/agent/controls/default_controls.py -> build/lib.linux-x86_64-3.6/habitat_sim/agent/controls\n",
      "copying habitat_sim/agent/controls/object_controls.py -> build/lib.linux-x86_64-3.6/habitat_sim/agent/controls\n",
      "copying habitat_sim/agent/controls/pyrobot_noisy_controls.py -> build/lib.linux-x86_64-3.6/habitat_sim/agent/controls\n",
      "creating build/lib.linux-x86_64-3.6/habitat_sim/sensors/noise_models\n",
      "copying habitat_sim/sensors/noise_models/__init__.py -> build/lib.linux-x86_64-3.6/habitat_sim/sensors/noise_models\n",
      "copying habitat_sim/sensors/noise_models/gaussian_noise_model.py -> build/lib.linux-x86_64-3.6/habitat_sim/sensors/noise_models\n",
      "copying habitat_sim/sensors/noise_models/no_noise_model.py -> build/lib.linux-x86_64-3.6/habitat_sim/sensors/noise_models\n",
      "copying habitat_sim/sensors/noise_models/poisson_noise_model.py -> build/lib.linux-x86_64-3.6/habitat_sim/sensors/noise_models\n",
      "copying habitat_sim/sensors/noise_models/redwood_depth_noise_model.py -> build/lib.linux-x86_64-3.6/habitat_sim/sensors/noise_models\n",
      "copying habitat_sim/sensors/noise_models/salt_and_pepper_noise_model.py -> build/lib.linux-x86_64-3.6/habitat_sim/sensors/noise_models\n",
      "copying habitat_sim/sensors/noise_models/sensor_noise_model.py -> build/lib.linux-x86_64-3.6/habitat_sim/sensors/noise_models\n",
      "copying habitat_sim/sensors/noise_models/speckle_noise_model.py -> build/lib.linux-x86_64-3.6/habitat_sim/sensors/noise_models\n",
      "creating build/lib.linux-x86_64-3.6/habitat_sim/sensors/noise_models/data\n",
      "copying habitat_sim/sensors/noise_models/data/redwood-depth-dist-model.npy -> build/lib.linux-x86_64-3.6/habitat_sim/sensors/noise_models/data\n",
      "running build_ext\n",
      "-- The C compiler identification is GNU 7.4.0\n",
      "-- The CXX compiler identification is GNU 7.4.0\n",
      "-- The CUDA compiler identification is NVIDIA 10.1.243\n",
      "-- Check for working C compiler: /usr/bin/cc\n",
      "-- Check for working C compiler: /usr/bin/cc -- works\n",
      "-- Detecting C compiler ABI info\n",
      "-- Detecting C compiler ABI info - done\n",
      "-- Detecting C compile features\n",
      "-- Detecting C compile features - done\n",
      "-- Check for working CXX compiler: /usr/bin/c++\n",
      "-- Check for working CXX compiler: /usr/bin/c++ -- works\n",
      "-- Detecting CXX compiler ABI info\n",
      "-- Detecting CXX compiler ABI info - done\n",
      "-- Detecting CXX compile features\n",
      "-- Detecting CXX compile features - done\n",
      "-- Check for working CUDA compiler: /usr/local/cuda/bin/nvcc\n",
      "-- Check for working CUDA compiler: /usr/local/cuda/bin/nvcc -- works\n",
      "-- Detecting CUDA compiler ABI info\n",
      "-- Detecting CUDA compiler ABI info - done\n",
      "CMake Error at cmake/dependencies.cmake:13 (add_subdirectory):\n",
      "  The source directory\n",
      "\n",
      "    /root/habitat-api/habitat-sim/src/deps/corrade\n",
      "\n",
      "  does not contain a CMakeLists.txt file.\n",
      "Call Stack (most recent call first):\n",
      "  CMakeLists.txt:57 (include)\n",
      "\n",
      "\n",
      "CMake Error at /opt/cmake/share/cmake-3.10/Modules/FindPackageHandleStandardArgs.cmake:137 (message):\n",
      "  Could NOT find Corrade (missing: CORRADE_INCLUDE_DIR\n",
      "  _CORRADE_CONFIGURE_FILE)\n",
      "Call Stack (most recent call first):\n",
      "  /opt/cmake/share/cmake-3.10/Modules/FindPackageHandleStandardArgs.cmake:378 (_FPHSA_FAILURE_MESSAGE)\n",
      "  cmake/FindCorrade.cmake:286 (find_package_handle_standard_args)\n",
      "  cmake/dependencies.cmake:15 (find_package)\n",
      "  CMakeLists.txt:57 (include)\n",
      "\n",
      "\n",
      "-- Configuring incomplete, errors occurred!\n",
      "See also \"/root/habitat-api/habitat-sim/build/CMakeFiles/CMakeOutput.log\".\n",
      "Traceback (most recent call last):\n",
      "  File \"setup.py\", line 380, in <module>\n",
      "    include_package_data=True,\n",
      "  File \"/usr/local/lib/python3.6/dist-packages/setuptools/__init__.py\", line 145, in setup\n",
      "    return distutils.core.setup(**attrs)\n",
      "  File \"/usr/lib/python3.6/distutils/core.py\", line 148, in setup\n",
      "    dist.run_commands()\n",
      "  File \"/usr/lib/python3.6/distutils/dist.py\", line 955, in run_commands\n",
      "    self.run_command(cmd)\n",
      "  File \"/usr/lib/python3.6/distutils/dist.py\", line 974, in run_command\n",
      "    cmd_obj.run()\n",
      "  File \"/usr/local/lib/python3.6/dist-packages/setuptools/command/install.py\", line 67, in run\n",
      "    self.do_egg_install()\n",
      "  File \"/usr/local/lib/python3.6/dist-packages/setuptools/command/install.py\", line 109, in do_egg_install\n",
      "    self.run_command('bdist_egg')\n",
      "  File \"/usr/lib/python3.6/distutils/cmd.py\", line 313, in run_command\n",
      "    self.distribution.run_command(command)\n",
      "  File \"/usr/lib/python3.6/distutils/dist.py\", line 974, in run_command\n",
      "    cmd_obj.run()\n",
      "  File \"/usr/local/lib/python3.6/dist-packages/setuptools/command/bdist_egg.py\", line 172, in run\n",
      "    cmd = self.call_command('install_lib', warn_dir=0)\n",
      "  File \"/usr/local/lib/python3.6/dist-packages/setuptools/command/bdist_egg.py\", line 158, in call_command\n",
      "    self.run_command(cmdname)\n",
      "  File \"/usr/lib/python3.6/distutils/cmd.py\", line 313, in run_command\n",
      "    self.distribution.run_command(command)\n",
      "  File \"/usr/lib/python3.6/distutils/dist.py\", line 974, in run_command\n",
      "    cmd_obj.run()\n",
      "  File \"/usr/local/lib/python3.6/dist-packages/setuptools/command/install_lib.py\", line 11, in run\n",
      "    self.build()\n",
      "  File \"/usr/lib/python3.6/distutils/command/install_lib.py\", line 109, in build\n",
      "    self.run_command('build_ext')\n",
      "  File \"/usr/lib/python3.6/distutils/cmd.py\", line 313, in run_command\n",
      "    self.distribution.run_command(command)\n",
      "  File \"/usr/lib/python3.6/distutils/dist.py\", line 974, in run_command\n",
      "    cmd_obj.run()\n",
      "  File \"setup.py\", line 202, in run\n",
      "    self.build_extension(ext)\n",
      "  File \"setup.py\", line 269, in build_extension\n",
      "    env=env,\n",
      "  File \"/usr/lib/python3.6/subprocess.py\", line 311, in check_call\n",
      "    raise CalledProcessError(retcode, cmd)\n",
      "subprocess.CalledProcessError: Command '['cmake', '-H/root/habitat-api/habitat-sim/src', '-Bbuild', '-DBUILD_PYTHON_BINDINGS=ON', '-DCMAKE_LIBRARY_OUTPUT_DIRECTORY=/root/habitat-api/habitat-sim/build/lib.linux-x86_64-3.6/habitat_sim/_ext', '-DPYTHON_EXECUTABLE=/usr/local/bin/python', '-DCMAKE_EXPORT_COMPILE_COMMANDS=ON', '-DCMAKE_BUILD_TYPE=RelWithDebInfo', '-DBUILD_GUI_VIEWERS=OFF', '-DTARGET_HEADLESS=ON', '-DBUILD_TEST=OFF', '-DBUILD_WITH_BULLET=OFF', '-DBUILD_DATATOOL=OFF', '-DBUILD_WITH_CUDA=ON']' returned non-zero exit status 1.\n"
     ]
    }
   ],
   "source": [
    "!cd ~/habitat-api/habitat-sim; rm -rf build/; python setup.py install --headless --with-cuda --user"
   ]
  },
  {
   "cell_type": "code",
   "execution_count": null,
   "metadata": {},
   "outputs": [],
   "source": [
    "!add-apt-repository \"deb http://apt.llvm.org/xenial/ llvm-toolchain-xenial-9 main\"\n",
    "!apt-get update -y || true\n",
    "!apt-get install -y clang-tidy-9\n",
    "!ln -s /usr/bin/clang-tidy-9 /usr/local/bin/clang-tidy\n",
    "!clang-tidy --version"
   ]
  },
  {
   "cell_type": "code",
   "execution_count": null,
   "metadata": {},
   "outputs": [],
   "source": [
    "!echo $(git ls-remote https://github.com/facebookresearch/habitat-api.git HEAD | awk '{ print $1}') > ./hapi_sha\n",
    "!cat ./hapi_sha\n",
    "!wget https://cmake.org/files/v3.10/cmake-3.10.3-Linux-x86_64.sh\n",
    "!mkdir /opt/cmake\n",
    "!sh ./cmake-3.10.3-Linux-x86_64.sh --prefix=/opt/cmake --skip-license\n",
    "!ln -s /opt/cmake/bin/cmake /usr/local/bin/cmake"
   ]
  },
  {
   "cell_type": "code",
   "execution_count": null,
   "metadata": {},
   "outputs": [],
   "source": [
    "!apt-get update || true\n",
    "!apt-get install -y --no-install-recommends \\\n",
    "  build-essential \\\n",
    "  git \\\n",
    "  curl \\\n",
    "  vim \\\n",
    "  ca-certificates \\\n",
    "  libjpeg-dev \\\n",
    "  libglm-dev \\\n",
    "  libegl1-mesa-dev \\\n",
    "  xorg-dev \\\n",
    "  freeglut3-dev \\\n",
    "  pkg-config \\\n",
    "  wget \\\n",
    "  zip \\\n",
    "  libbullet-dev\\\n",
    "  lcov\\\n",
    "  unzip || true\n",
    "!apt install -y --allow-change-held-packages \\\n",
    "  texlive-base \\\n",
    "  texlive-latex-extra \\\n",
    "  texlive-fonts-extra \\\n",
    "  texlive-fonts-recommended"
   ]
  },
  {
   "cell_type": "code",
   "execution_count": null,
   "metadata": {},
   "outputs": [],
   "source": []
  }
 ],
 "metadata": {
  "kernelspec": {
   "display_name": "Python 3",
   "language": "python",
   "name": "python3"
  },
  "language_info": {
   "codemirror_mode": {
    "name": "ipython",
    "version": 3
   },
   "file_extension": ".py",
   "mimetype": "text/x-python",
   "name": "python",
   "nbconvert_exporter": "python",
   "pygments_lexer": "ipython3",
   "version": "3.6.9"
  }
 },
 "nbformat": 4,
 "nbformat_minor": 4
}
